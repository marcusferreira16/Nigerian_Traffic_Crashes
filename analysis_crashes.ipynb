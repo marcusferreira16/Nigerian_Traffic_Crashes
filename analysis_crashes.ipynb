{
 "cells": [
  {
   "cell_type": "markdown",
   "metadata": {},
   "source": [
    "# Análise dos acidentes de trânsito na Nigéria entre 2020 e 2024\n",
    "Utilizando PySpark"
   ]
  },
  {
   "cell_type": "markdown",
   "metadata": {},
   "source": [
    "### Importanto e configurando o ambiente para uso da biblioteca PySpark"
   ]
  },
  {
   "cell_type": "code",
   "execution_count": 26,
   "metadata": {},
   "outputs": [],
   "source": [
    "# Importando as bibliotecas que usaremos para ter a localização do pyspark\n",
    "import findspark\n",
    "import os\n",
    "\n",
    "# Configura o caminho do Spark\n",
    "os.environ[\"SPARK_HOME\"] = '/Users/marcusferreira/Documents/Vscode/PySpark/spark-3.4.0-bin-hadoop3'\n",
    "\n",
    "# Inicializa o findspark, para ele localizar onde está armazenado\n",
    "findspark.init()\n",
    "\n",
    "# Biblioteca do Spark para utilização de DataFrame e linguagem SQL\n",
    "from pyspark.sql import SparkSession\n",
    "\n",
    "# Importando as funções SQL do PySpark para utilizarmos ao longo do código\n",
    "from pyspark.sql.functions import col, isnan, when, count\n",
    "from pyspark.sql.types import IntegerType\n",
    "\n",
    "# Inicializa uma SparkSession com um nome de aplicação descritivo\n",
    "spark = SparkSession.builder \\\n",
    "    .appName(\"AnaliseAcidentesTransito\") \\\n",
    "    .master('local[*]') \\\n",
    "    .getOrCreate()\n",
    "\n",
    "# Obtém o SparkContext a partir da SparkSession\n",
    "sc = spark.sparkContext"
   ]
  },
  {
   "cell_type": "markdown",
   "metadata": {},
   "source": [
    "### Obtendo o arquivo e fazendo algumas análises iniciais"
   ]
  },
  {
   "cell_type": "code",
   "execution_count": 27,
   "metadata": {},
   "outputs": [
    {
     "name": "stdout",
     "output_type": "stream",
     "text": [
      "+-------+-----------+-------------+-----------+----------+-----------------------+---+---+---+---+-------------+\n",
      "|Quarter|      State|Total_Crashes|Num_Injured|Num_Killed|Total_Vehicles_Involved|SPV|DAD|PWR|FTQ|Other_Factors|\n",
      "+-------+-----------+-------------+-----------+----------+-----------------------+---+---+---+---+-------------+\n",
      "|Q4 2020|       Abia|           30|        146|        31|                     37| 19|  0|  0|  0|           18|\n",
      "|Q4 2020|    Adamawa|           77|        234|        36|                     94| 57|  0|  0|  0|           37|\n",
      "|Q4 2020|  Akwa Ibom|           22|         28|         7|                     24| 15|  0|  0|  1|            8|\n",
      "|Q4 2020|    Anambra|           72|        152|        20|                     83| 43|  1|  0|  0|           39|\n",
      "|Q4 2020|     Bauchi|          154|        685|        90|                    140| 74|  0|  0|  0|           66|\n",
      "|Q4 2020|    Bayelsa|            1|          3|         0|                      1|  1|  0|  0|  0|            0|\n",
      "|Q4 2020|      Benue|           77|        177|        25|                     81| 81|  0|  0|  0|            0|\n",
      "|Q4 2020|      Borno|           25|         67|        16|                     18| 11|  0|  0|  0|            7|\n",
      "|Q4 2020|Cross River|           33|         65|        11|                     39| 23|  0|  0|  0|           16|\n",
      "|Q4 2020|      Delta|           67|        182|        36|                    111| 70|  0|  0|  0|           41|\n",
      "|Q4 2020|     Ebonyi|           27|         82|        11|                     29|  9|  0|  0|  0|           20|\n",
      "|Q4 2020|        Edo|           55|        118|        32|                    102| 77|  0|  0|  0|           25|\n",
      "|Q4 2020|      Ekiti|           30|         71|         9|                     46| 23|  1|  0|  0|           22|\n",
      "|Q4 2020|      Enugu|           44|        116|        30|                     48| 10|  0|  0|  0|           38|\n",
      "|Q4 2020|        FCT|          312|        572|        90|                    480|284|  1|  0|  2|          193|\n",
      "|Q4 2020|      Gombe|           70|        231|        26|                     84| 59|  0|  0|  0|           25|\n",
      "|Q4 2020|        Imo|           31|         91|        15|                     24| 11|  0|  0|  0|           13|\n",
      "|Q4 2020|     Jigawa|           92|        318|        64|                    177|118|  0|  0|  0|           59|\n",
      "|Q4 2020|     Kaduna|          281|       1010|       224|                    363|194|  0|  0|  0|          169|\n",
      "|Q4 2020|       Kano|          102|        499|       194|                    130| 90|  0|  0|  2|           38|\n",
      "+-------+-----------+-------------+-----------+----------+-----------------------+---+---+---+---+-------------+\n",
      "only showing top 20 rows\n",
      "\n",
      "root\n",
      " |-- Quarter: string (nullable = true)\n",
      " |-- State: string (nullable = true)\n",
      " |-- Total_Crashes: string (nullable = true)\n",
      " |-- Num_Injured: string (nullable = true)\n",
      " |-- Num_Killed: string (nullable = true)\n",
      " |-- Total_Vehicles_Involved: string (nullable = true)\n",
      " |-- SPV: string (nullable = true)\n",
      " |-- DAD: string (nullable = true)\n",
      " |-- PWR: string (nullable = true)\n",
      " |-- FTQ: string (nullable = true)\n",
      " |-- Other_Factors: string (nullable = true)\n",
      "\n",
      "+-------+-----+-------------+-----------+----------+-----------------------+---+---+---+---+-------------+\n",
      "|Quarter|State|Total_Crashes|Num_Injured|Num_Killed|Total_Vehicles_Involved|SPV|DAD|PWR|FTQ|Other_Factors|\n",
      "+-------+-----+-------------+-----------+----------+-----------------------+---+---+---+---+-------------+\n",
      "|      0|    0|            0|          0|         0|                      0|  0|  0|  0|  0|            0|\n",
      "+-------+-----+-------------+-----------+----------+-----------------------+---+---+---+---+-------------+\n",
      "\n"
     ]
    }
   ],
   "source": [
    "# Obtendo o arquivo CSV e criando um DataFrame a partir dele\n",
    "path = '/Users/marcusferreira/Documents/Vscode/Traffic_crashes/NigerianTrafficCrashes.csv'\n",
    "df = spark.read.option('delimiter', ',').option(\"header\", True).csv(path)\n",
    "\n",
    "# Visualizando o DataFrame\n",
    "df.show()\n",
    "\n",
    "# Verificação dos tipos de campos\n",
    "df.printSchema()\n",
    "\n",
    "# Verificando os casos nulos\n",
    "null_counts = df.select([count(when(col(c).isNull() | isnan(c), c)).alias(c) for c in df.columns])\n",
    "null_counts.show()"
   ]
  },
  {
   "cell_type": "markdown",
   "metadata": {},
   "source": [
    "### Aplicando tratamento de dados"
   ]
  },
  {
   "cell_type": "code",
   "execution_count": 28,
   "metadata": {},
   "outputs": [
    {
     "name": "stdout",
     "output_type": "stream",
     "text": [
      "root\n",
      " |-- Quarter: string (nullable = true)\n",
      " |-- State: string (nullable = true)\n",
      " |-- Total_Crashes: integer (nullable = true)\n",
      " |-- Num_Injured: integer (nullable = true)\n",
      " |-- Num_Killed: integer (nullable = true)\n",
      " |-- Total_Vehicles_Involved: integer (nullable = true)\n",
      " |-- SPV: integer (nullable = true)\n",
      " |-- DAD: integer (nullable = true)\n",
      " |-- PWR: integer (nullable = true)\n",
      " |-- FTQ: integer (nullable = true)\n",
      " |-- Other_Factors: integer (nullable = true)\n",
      "\n",
      "+-------+-----------+-------------+-----------+----------+-----------------------+---+---+---+---+-------------+\n",
      "|Quarter|      State|Total_Crashes|Num_Injured|Num_Killed|Total_Vehicles_Involved|SPV|DAD|PWR|FTQ|Other_Factors|\n",
      "+-------+-----------+-------------+-----------+----------+-----------------------+---+---+---+---+-------------+\n",
      "|Q4 2020|       Abia|           30|        146|        31|                     37| 19|  0|  0|  0|           18|\n",
      "|Q4 2020|    Adamawa|           77|        234|        36|                     94| 57|  0|  0|  0|           37|\n",
      "|Q4 2020|  Akwa Ibom|           22|         28|         7|                     24| 15|  0|  0|  1|            8|\n",
      "|Q4 2020|    Anambra|           72|        152|        20|                     83| 43|  1|  0|  0|           39|\n",
      "|Q4 2020|     Bauchi|          154|        685|        90|                    140| 74|  0|  0|  0|           66|\n",
      "|Q4 2020|    Bayelsa|            1|          3|         0|                      1|  1|  0|  0|  0|            0|\n",
      "|Q4 2020|      Benue|           77|        177|        25|                     81| 81|  0|  0|  0|            0|\n",
      "|Q4 2020|      Borno|           25|         67|        16|                     18| 11|  0|  0|  0|            7|\n",
      "|Q4 2020|Cross River|           33|         65|        11|                     39| 23|  0|  0|  0|           16|\n",
      "|Q4 2020|      Delta|           67|        182|        36|                    111| 70|  0|  0|  0|           41|\n",
      "|Q4 2020|     Ebonyi|           27|         82|        11|                     29|  9|  0|  0|  0|           20|\n",
      "|Q4 2020|        Edo|           55|        118|        32|                    102| 77|  0|  0|  0|           25|\n",
      "|Q4 2020|      Ekiti|           30|         71|         9|                     46| 23|  1|  0|  0|           22|\n",
      "|Q4 2020|      Enugu|           44|        116|        30|                     48| 10|  0|  0|  0|           38|\n",
      "|Q4 2020|        FCT|          312|        572|        90|                    480|284|  1|  0|  2|          193|\n",
      "|Q4 2020|      Gombe|           70|        231|        26|                     84| 59|  0|  0|  0|           25|\n",
      "|Q4 2020|        Imo|           31|         91|        15|                     24| 11|  0|  0|  0|           13|\n",
      "|Q4 2020|     Jigawa|           92|        318|        64|                    177|118|  0|  0|  0|           59|\n",
      "|Q4 2020|     Kaduna|          281|       1010|       224|                    363|194|  0|  0|  0|          169|\n",
      "|Q4 2020|       Kano|          102|        499|       194|                    130| 90|  0|  0|  2|           38|\n",
      "+-------+-----------+-------------+-----------+----------+-----------------------+---+---+---+---+-------------+\n",
      "only showing top 20 rows\n",
      "\n"
     ]
    }
   ],
   "source": [
    "# Alterando os tipos das colunas para o formato correto\n",
    "df = df.withColumn('Total_Crashes', df['Total_Crashes'].cast(IntegerType()))\n",
    "df = df.withColumn('Num_Injured', df['Num_Injured'].cast(IntegerType()))\n",
    "df = df.withColumn('Num_Killed', df['Num_Killed'].cast(IntegerType()))\n",
    "df = df.withColumn('Total_Vehicles_Involved', df['Total_Vehicles_Involved'].cast(IntegerType()))\n",
    "df = df.withColumn('SPV', df['SPV'].cast(IntegerType()))\n",
    "df = df.withColumn('DAD', df['DAD'].cast(IntegerType()))\n",
    "df = df.withColumn('PWR', df['PWR'].cast(IntegerType()))\n",
    "df = df.withColumn('FTQ', df['FTQ'].cast(IntegerType()))\n",
    "df = df.withColumn('Other_Factors', df['Other_Factors'].cast(IntegerType()))\n",
    "df.printSchema()\n",
    "df.show()"
   ]
  },
  {
   "cell_type": "code",
   "execution_count": 29,
   "metadata": {},
   "outputs": [],
   "source": [
    "# Parar a SparkSession\n",
    "spark.stop()"
   ]
  }
 ],
 "metadata": {
  "kernelspec": {
   "display_name": "Python 3",
   "language": "python",
   "name": "python3"
  },
  "language_info": {
   "codemirror_mode": {
    "name": "ipython",
    "version": 3
   },
   "file_extension": ".py",
   "mimetype": "text/x-python",
   "name": "python",
   "nbconvert_exporter": "python",
   "pygments_lexer": "ipython3",
   "version": "3.11.3"
  }
 },
 "nbformat": 4,
 "nbformat_minor": 2
}
