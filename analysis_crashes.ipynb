{
 "cells": [
  {
   "cell_type": "markdown",
   "metadata": {},
   "source": [
    "# Análise dos acidentes de trânsito na Nigéria entre 2020 e 2024\n",
    "Utilizando PySpark"
   ]
  },
  {
   "cell_type": "markdown",
   "metadata": {},
   "source": [
    "### Importanto e configurando o ambiente para uso da biblioteca PySpark"
   ]
  },
  {
   "cell_type": "code",
   "execution_count": 86,
   "metadata": {},
   "outputs": [],
   "source": [
    "# Importando as bibliotecas que usaremos para ter a localização do pyspark\n",
    "import findspark\n",
    "import os\n",
    "\n",
    "# Configura o caminho do Spark\n",
    "os.environ[\"SPARK_HOME\"] = '/Users/marcusferreira/Documents/Vscode/PySpark/spark-3.4.0-bin-hadoop3'\n",
    "\n",
    "# Inicializa o findspark, para ele localizar onde está armazenado\n",
    "findspark.init()\n",
    "\n",
    "# Biblioteca do Spark para utilização de DataFrame e linguagem SQL\n",
    "from pyspark.sql import SparkSession\n",
    "\n",
    "# Importando as funções SQL do PySpark para utilizarmos ao longo do código\n",
    "from pyspark.sql.functions import col, isnan, when, count\n",
    "from pyspark.sql.types import IntegerType\n",
    "\n",
    "# Importando bibliotecas auxiliares\n",
    "import pandas as pd\n",
    "import seaborn as sns\n",
    "import matplotlib.pyplot as plt\n",
    "\n",
    "# Inicializa uma SparkSession com um nome de aplicação descritivo\n",
    "spark = SparkSession.builder \\\n",
    "    .appName(\"AnaliseAcidentesTransito\") \\\n",
    "    .master('local[*]') \\\n",
    "    .getOrCreate()\n",
    "\n",
    "# Obtém o SparkContext a partir da SparkSession\n",
    "sc = spark.sparkContext"
   ]
  },
  {
   "cell_type": "markdown",
   "metadata": {},
   "source": [
    "### Obtendo o arquivo e fazendo algumas análises iniciais"
   ]
  },
  {
   "cell_type": "code",
   "execution_count": 87,
   "metadata": {},
   "outputs": [
    {
     "name": "stdout",
     "output_type": "stream",
     "text": [
      "+-------+-----------+-------------+-----------+----------+-----------------------+---+---+---+---+-------------+\n",
      "|Quarter|      State|Total_Crashes|Num_Injured|Num_Killed|Total_Vehicles_Involved|SPV|DAD|PWR|FTQ|Other_Factors|\n",
      "+-------+-----------+-------------+-----------+----------+-----------------------+---+---+---+---+-------------+\n",
      "|Q4 2020|       Abia|           30|        146|        31|                     37| 19|  0|  0|  0|           18|\n",
      "|Q4 2020|    Adamawa|           77|        234|        36|                     94| 57|  0|  0|  0|           37|\n",
      "|Q4 2020|  Akwa Ibom|           22|         28|         7|                     24| 15|  0|  0|  1|            8|\n",
      "|Q4 2020|    Anambra|           72|        152|        20|                     83| 43|  1|  0|  0|           39|\n",
      "|Q4 2020|     Bauchi|          154|        685|        90|                    140| 74|  0|  0|  0|           66|\n",
      "|Q4 2020|    Bayelsa|            1|          3|         0|                      1|  1|  0|  0|  0|            0|\n",
      "|Q4 2020|      Benue|           77|        177|        25|                     81| 81|  0|  0|  0|            0|\n",
      "|Q4 2020|      Borno|           25|         67|        16|                     18| 11|  0|  0|  0|            7|\n",
      "|Q4 2020|Cross River|           33|         65|        11|                     39| 23|  0|  0|  0|           16|\n",
      "|Q4 2020|      Delta|           67|        182|        36|                    111| 70|  0|  0|  0|           41|\n",
      "|Q4 2020|     Ebonyi|           27|         82|        11|                     29|  9|  0|  0|  0|           20|\n",
      "|Q4 2020|        Edo|           55|        118|        32|                    102| 77|  0|  0|  0|           25|\n",
      "|Q4 2020|      Ekiti|           30|         71|         9|                     46| 23|  1|  0|  0|           22|\n",
      "|Q4 2020|      Enugu|           44|        116|        30|                     48| 10|  0|  0|  0|           38|\n",
      "|Q4 2020|        FCT|          312|        572|        90|                    480|284|  1|  0|  2|          193|\n",
      "|Q4 2020|      Gombe|           70|        231|        26|                     84| 59|  0|  0|  0|           25|\n",
      "|Q4 2020|        Imo|           31|         91|        15|                     24| 11|  0|  0|  0|           13|\n",
      "|Q4 2020|     Jigawa|           92|        318|        64|                    177|118|  0|  0|  0|           59|\n",
      "|Q4 2020|     Kaduna|          281|       1010|       224|                    363|194|  0|  0|  0|          169|\n",
      "|Q4 2020|       Kano|          102|        499|       194|                    130| 90|  0|  0|  2|           38|\n",
      "+-------+-----------+-------------+-----------+----------+-----------------------+---+---+---+---+-------------+\n",
      "only showing top 20 rows\n",
      "\n",
      "root\n",
      " |-- Quarter: string (nullable = true)\n",
      " |-- State: string (nullable = true)\n",
      " |-- Total_Crashes: string (nullable = true)\n",
      " |-- Num_Injured: string (nullable = true)\n",
      " |-- Num_Killed: string (nullable = true)\n",
      " |-- Total_Vehicles_Involved: string (nullable = true)\n",
      " |-- SPV: string (nullable = true)\n",
      " |-- DAD: string (nullable = true)\n",
      " |-- PWR: string (nullable = true)\n",
      " |-- FTQ: string (nullable = true)\n",
      " |-- Other_Factors: string (nullable = true)\n",
      "\n",
      "+-------+-----+-------------+-----------+----------+-----------------------+---+---+---+---+-------------+\n",
      "|Quarter|State|Total_Crashes|Num_Injured|Num_Killed|Total_Vehicles_Involved|SPV|DAD|PWR|FTQ|Other_Factors|\n",
      "+-------+-----+-------------+-----------+----------+-----------------------+---+---+---+---+-------------+\n",
      "|      0|    0|            0|          0|         0|                      0|  0|  0|  0|  0|            0|\n",
      "+-------+-----+-------------+-----------+----------+-----------------------+---+---+---+---+-------------+\n",
      "\n"
     ]
    }
   ],
   "source": [
    "# Obtendo o arquivo CSV e criando um DataFrame a partir dele\n",
    "path = '/Users/marcusferreira/Documents/Vscode/Traffic_crashes/NigerianTrafficCrashes.csv'\n",
    "df = spark.read.option('delimiter', ',').option(\"header\", True).csv(path)\n",
    "\n",
    "# Visualizando o DataFrame\n",
    "df.show()\n",
    "\n",
    "# Verificação dos tipos de campos\n",
    "df.printSchema()\n",
    "\n",
    "# Verificando os casos nulos\n",
    "null_counts = df.select([count(when(col(c).isNull() | isnan(c), c)).alias(c) for c in df.columns])\n",
    "null_counts.show()"
   ]
  },
  {
   "cell_type": "markdown",
   "metadata": {},
   "source": [
    "### Aplicando tratamento de dados"
   ]
  },
  {
   "cell_type": "code",
   "execution_count": 88,
   "metadata": {},
   "outputs": [
    {
     "name": "stdout",
     "output_type": "stream",
     "text": [
      "root\n",
      " |-- Quarter: string (nullable = true)\n",
      " |-- State: string (nullable = true)\n",
      " |-- Total_Crashes: integer (nullable = true)\n",
      " |-- Num_Injured: integer (nullable = true)\n",
      " |-- Num_Killed: integer (nullable = true)\n",
      " |-- Total_Vehicles_Involved: integer (nullable = true)\n",
      " |-- SPV: integer (nullable = true)\n",
      " |-- DAD: integer (nullable = true)\n",
      " |-- PWR: integer (nullable = true)\n",
      " |-- FTQ: integer (nullable = true)\n",
      " |-- Other_Factors: integer (nullable = true)\n",
      "\n",
      "+-------+-----------+-------------+-----------+----------+-----------------------+---+---+---+---+-------------+\n",
      "|Quarter|      State|Total_Crashes|Num_Injured|Num_Killed|Total_Vehicles_Involved|SPV|DAD|PWR|FTQ|Other_Factors|\n",
      "+-------+-----------+-------------+-----------+----------+-----------------------+---+---+---+---+-------------+\n",
      "|Q4 2020|       Abia|           30|        146|        31|                     37| 19|  0|  0|  0|           18|\n",
      "|Q4 2020|    Adamawa|           77|        234|        36|                     94| 57|  0|  0|  0|           37|\n",
      "|Q4 2020|  Akwa Ibom|           22|         28|         7|                     24| 15|  0|  0|  1|            8|\n",
      "|Q4 2020|    Anambra|           72|        152|        20|                     83| 43|  1|  0|  0|           39|\n",
      "|Q4 2020|     Bauchi|          154|        685|        90|                    140| 74|  0|  0|  0|           66|\n",
      "|Q4 2020|    Bayelsa|            1|          3|         0|                      1|  1|  0|  0|  0|            0|\n",
      "|Q4 2020|      Benue|           77|        177|        25|                     81| 81|  0|  0|  0|            0|\n",
      "|Q4 2020|      Borno|           25|         67|        16|                     18| 11|  0|  0|  0|            7|\n",
      "|Q4 2020|Cross River|           33|         65|        11|                     39| 23|  0|  0|  0|           16|\n",
      "|Q4 2020|      Delta|           67|        182|        36|                    111| 70|  0|  0|  0|           41|\n",
      "+-------+-----------+-------------+-----------+----------+-----------------------+---+---+---+---+-------------+\n",
      "only showing top 10 rows\n",
      "\n"
     ]
    }
   ],
   "source": [
    "# Alterando os tipos das colunas para o formato correto\n",
    "df = df.withColumn('Total_Crashes', df['Total_Crashes'].cast(IntegerType()))\n",
    "df = df.withColumn('Num_Injured', df['Num_Injured'].cast(IntegerType()))\n",
    "df = df.withColumn('Num_Killed', df['Num_Killed'].cast(IntegerType()))\n",
    "df = df.withColumn('Total_Vehicles_Involved', df['Total_Vehicles_Involved'].cast(IntegerType()))\n",
    "df = df.withColumn('SPV', df['SPV'].cast(IntegerType()))\n",
    "df = df.withColumn('DAD', df['DAD'].cast(IntegerType()))\n",
    "df = df.withColumn('PWR', df['PWR'].cast(IntegerType()))\n",
    "df = df.withColumn('FTQ', df['FTQ'].cast(IntegerType()))\n",
    "df = df.withColumn('Other_Factors', df['Other_Factors'].cast(IntegerType()))\n",
    "df.printSchema()\n",
    "df.show(10)"
   ]
  },
  {
   "cell_type": "markdown",
   "metadata": {},
   "source": [
    "### Análise Exploratória\n",
    "Verificando em cada quarter qual foi o total de crashes, além disso, comparar se os quartes finais tem mais acidentes do que os primeiros, dado a pandemia do COVID-19"
   ]
  },
  {
   "cell_type": "code",
   "execution_count": 89,
   "metadata": {},
   "outputs": [
    {
     "name": "stdout",
     "output_type": "stream",
     "text": [
      "+-------------+-------+--------+-------------+-----------+----------+-----------------------+---+---+---+---+-------------+\n",
      "|Index_Quarter|Quarter|   State|Total_Crashes|Num_Injured|Num_Killed|Total_Vehicles_Involved|SPV|DAD|PWR|FTQ|Other_Factors|\n",
      "+-------------+-------+--------+-------------+-----------+----------+-----------------------+---+---+---+---+-------------+\n",
      "|            1|Q4 2020|     FCT|          312|        572|        90|                    480|284|  1|  0|  2|          193|\n",
      "|            1|Q4 2020|  Kaduna|          281|       1010|       224|                    363|194|  0|  0|  0|          169|\n",
      "|            1|Q4 2020|    Ogun|          279|        548|        83|                    377|254|  0|  0|  0|          123|\n",
      "|            1|Q4 2020|Nasarawa|          200|        513|        65|                    271|114|  0|  0|  0|          157|\n",
      "|            1|Q4 2020|     Oyo|          155|        385|        68|                    209|128|  0|  0|  4|           77|\n",
      "|            1|Q4 2020|  Bauchi|          154|        685|        90|                    140| 74|  0|  0|  0|           66|\n",
      "|            1|Q4 2020|    Kogi|          122|        335|        55|                    178| 91|  1|  0|  1|           85|\n",
      "|            1|Q4 2020|    Ondo|          114|        320|        84|                    155|107|  0|  0|  1|           47|\n",
      "|            1|Q4 2020|   Lagos|          113|        181|        21|                    114| 46|  1|  0|  3|           64|\n",
      "|            1|Q4 2020|   Niger|          110|        347|        91|                    126|102|  0|  0|  0|           24|\n",
      "+-------------+-------+--------+-------------+-----------+----------+-----------------------+---+---+---+---+-------------+\n",
      "only showing top 10 rows\n",
      "\n"
     ]
    }
   ],
   "source": [
    "# Criando uma coluna de indíce para cada Quarter\n",
    "df = df.withColumn('Index_Quarter', when(df['Quarter'] == \"Q4 2020\", 1)\n",
    "    .when(df['Quarter'] == \"Q1 2021\", 2)\n",
    "    .when(df['Quarter'] == \"Q2 2021\", 3)\n",
    "    .when(df['Quarter'] == \"Q3 2021\", 4)\n",
    "    .when(df['Quarter'] == \"Q4 2021\", 5)\n",
    "    .when(df['Quarter'] == \"Q1 2022\", 6)\n",
    "    .when(df['Quarter'] == \"Q2 2022\", 7)\n",
    "    .when(df['Quarter'] == \"Q3 2022\", 8)\n",
    "    .when(df['Quarter'] == \"Q4 2022\", 9)\n",
    "    .when(df['Quarter'] == \"Q1 2023\", 10)\n",
    "    .when(df['Quarter'] == \"Q2 2023\", 11)\n",
    "    .when(df['Quarter'] == \"Q3 2023\", 12)\n",
    "    .when(df['Quarter'] == \"Q4 2023\", 13)\n",
    "    .when(df['Quarter'] == \"Q1 2024\", 14)\n",
    "    .otherwise(None)\n",
    ").sort('Index_Quarter', 'Total_Crashes', ascending=[True, False])\n",
    "df = df[['Index_Quarter', 'Quarter', 'State', 'Total_Crashes', 'Num_Injured', 'Num_Killed', 'Total_Vehicles_Involved', 'SPV', 'DAD', 'PWR', 'FTQ', \n",
    "         'Other_Factors']]\n",
    "df.show(10)"
   ]
  },
  {
   "cell_type": "code",
   "execution_count": 90,
   "metadata": {},
   "outputs": [
    {
     "name": "stdout",
     "output_type": "stream",
     "text": [
      "+-------------+-------+-----------------+\n",
      "|Index_Quarter|Quarter|Sum_Total_Crashes|\n",
      "+-------------+-------+-----------------+\n",
      "|            1|Q4 2020|             3313|\n",
      "|            2|Q1 2021|             3301|\n",
      "|            3|Q2 2021|             3185|\n",
      "|            4|Q3 2021|             3134|\n",
      "|            5|Q4 2021|             3407|\n",
      "|            6|Q1 2022|             3345|\n",
      "|            7|Q2 2022|             3282|\n",
      "|            8|Q3 2022|             3412|\n",
      "|            9|Q4 2022|             3617|\n",
      "|           10|Q1 2023|             2733|\n",
      "+-------------+-------+-----------------+\n",
      "only showing top 10 rows\n",
      "\n"
     ]
    }
   ],
   "source": [
    "# Criando uma base para identificar o número total de crashes por quarter\n",
    "total_crashes_quarter = df.groupBy('Index_Quarter','Quarter').sum('Total_Crashes').withColumnRenamed('sum(Total_Crashes)', 'Sum_Total_Crashes').sort('Index_Quarter')\n",
    "total_crashes_quarter.show(10)"
   ]
  },
  {
   "cell_type": "code",
   "execution_count": 91,
   "metadata": {},
   "outputs": [
    {
     "data": {
      "image/png": "[encoded data removed]",
      "text/plain": [
       "<Figure size 1500x600 with 1 Axes>"
      ]
     },
     "metadata": {},
     "output_type": "display_data"
    }
   ],
   "source": [
    "# Visualizando através de um gráfico\n",
    "plt.figure(figsize=(15,6))\n",
    "sns.barplot(x='Quarter', y='Sum_Total_Crashes', data = total_crashes_quarter.toPandas())\n",
    "plt.title('Acidentes Totais por Quarter')\n",
    "plt.xticks(rotation=45)\n",
    "plt.show()"
   ]
  },
  {
   "cell_type": "code",
   "execution_count": 92,
   "metadata": {},
   "outputs": [
    {
     "name": "stdout",
     "output_type": "stream",
     "text": [
      "+-------------+-------+-----------------+--------+--------+--------+--------+------------------+\n",
      "|Index_Quarter|Quarter|Sum_Total_Crashes|sum(SPV)|sum(DAD)|sum(PWR)|sum(FTQ)|sum(Other_Factors)|\n",
      "+-------------+-------+-----------------+--------+--------+--------+--------+------------------+\n",
      "|            1|Q4 2020|             3313|    2645|       7|       0|      14|              1706|\n",
      "|            2|Q1 2021|             3301|    2429|       4|       3|      22|              1946|\n",
      "|            3|Q2 2021|             3185|    2162|      10|       0|      36|              1775|\n",
      "|            4|Q3 2021|             3134|      10|       4|      38|    2153|              1639|\n",
      "|            5|Q4 2021|             3407|      11|       0|      22|    2265|              1808|\n",
      "|            6|Q1 2022|             3345|       9|       0|      42|    2561|              1671|\n",
      "|            7|Q2 2022|             3282|      14|       3|      22|    2418|              1923|\n",
      "|            8|Q3 2022|             3412|      10|       0|      31|    2586|             -2406|\n",
      "|            9|Q4 2022|             3617|    1803|       8|       2|     180|              2842|\n",
      "|           10|Q1 2023|             2733|    2119|       5|       3|      27|              1556|\n",
      "|           11|Q2 2023|             2967|    2298|       8|       5|      15|              1594|\n",
      "|           12|Q3 2023|             2187|    1681|       6|       4|      11|              1289|\n",
      "|           13|Q4 2023|             2717|    2145|       8|       9|      31|              1392|\n",
      "|           14|Q1 2024|             2662|    2298|      10|       3|      22|              1179|\n",
      "+-------------+-------+-----------------+--------+--------+--------+--------+------------------+\n",
      "\n"
     ]
    }
   ],
   "source": [
    "# Verificando as principais motivações para os acidentes por quarter\n",
    "motivations_crashes_quarter = df.groupBy('Index_Quarter','Quarter').sum('Total_Crashes', 'SPV', 'DAD', 'PWR', 'FTQ', 'Other_Factors')\\\n",
    "                                .withColumnRenamed('sum(Total_Crashes)', 'Sum_Total_Crashes').sort('Index_Quarter')\n",
    "motivations_crashes_quarter.show()"
   ]
  },
  {
   "cell_type": "markdown",
   "metadata": {},
   "source": [
    "A partir da tabela acima, notamos que em Q3 2022, há dados negativos de outros fatores para causa do acidente. Vamos entender da onde vem esses dados."
   ]
  },
  {
   "cell_type": "code",
   "execution_count": 93,
   "metadata": {},
   "outputs": [
    {
     "name": "stdout",
     "output_type": "stream",
     "text": [
      "+-------------+-------+--------+-------------+-----------+----------+-----------------------+---+---+---+---+-------------+\n",
      "|Index_Quarter|Quarter|   State|Total_Crashes|Num_Injured|Num_Killed|Total_Vehicles_Involved|SPV|DAD|PWR|FTQ|Other_Factors|\n",
      "+-------------+-------+--------+-------------+-----------+----------+-----------------------+---+---+---+---+-------------+\n",
      "|            8|Q3 2022|     FCT|          464|        784|       109|                     23|  0|  0|  2|369|         -348|\n",
      "|            8|Q3 2022|    Ogun|          306|        718|       102|                     27|  1|  0|  0|313|         -287|\n",
      "|            8|Q3 2022|Nasarawa|          241|        626|        78|                     37|  1|  0|  0|129|          -93|\n",
      "|            8|Q3 2022|  Kaduna|          192|        744|       164|                      4|  2|  0|  3|119|         -120|\n",
      "|            8|Q3 2022|     Oyo|          166|        514|        84|                      1|  0|  0|  2|105|         -106|\n",
      "|            8|Q3 2022|  Jigawa|          147|        503|        46|                      3|  0|  0|  1|201|         -199|\n",
      "|            8|Q3 2022|   Lagos|          146|        201|        57|                     18|  3|  0|  0| 79|          -64|\n",
      "|            8|Q3 2022|    Ondo|          139|        356|        59|                      1|  0|  0|  1|103|         -103|\n",
      "|            8|Q3 2022|  Bauchi|          129|        436|        94|                      8|  0|  0|  1| 98|          -91|\n",
      "|            8|Q3 2022|   Niger|          124|        308|        41|                      7|  0|  0|  9|120|         -122|\n",
      "+-------------+-------+--------+-------------+-----------+----------+-----------------------+---+---+---+---+-------------+\n",
      "only showing top 10 rows\n",
      "\n",
      "+-------------+-------+-----+-------------+-----------+----------+-----------------------+---+---+---+---+-------------+\n",
      "|Index_Quarter|Quarter|State|Total_Crashes|Num_Injured|Num_Killed|Total_Vehicles_Involved|SPV|DAD|PWR|FTQ|Other_Factors|\n",
      "+-------------+-------+-----+-------------+-----------+----------+-----------------------+---+---+---+---+-------------+\n",
      "+-------------+-------+-----+-------------+-----------+----------+-----------------------+---+---+---+---+-------------+\n",
      "\n"
     ]
    }
   ],
   "source": [
    "df.filter(col('Other_Factors') < 0).show(10)\n",
    "df = df.withColumn('Other_Factors', when(col('Other_Factors') < 0, 0).otherwise(col('Other_Factors')))\n",
    "df.filter(col('Other_Factors') < 0).show()"
   ]
  },
  {
   "cell_type": "markdown",
   "metadata": {},
   "source": [
    "<p> Foi feita a substituição desses casos, pois não fazia sentido ter uma contagem negativa no número de fatores de um acidente. <br>\n",
    "A partir disso, vamos refazer nossa tabela das principais motivações de acidente </p>"
   ]
  },
  {
   "cell_type": "code",
   "execution_count": 94,
   "metadata": {},
   "outputs": [
    {
     "name": "stdout",
     "output_type": "stream",
     "text": [
      "+-------------+-------+-----------------+--------+--------+--------+--------+------------------+\n",
      "|Index_Quarter|Quarter|Sum_Total_Crashes|sum(SPV)|sum(DAD)|sum(PWR)|sum(FTQ)|sum(Other_Factors)|\n",
      "+-------------+-------+-----------------+--------+--------+--------+--------+------------------+\n",
      "|            1|Q4 2020|             3313|    2645|       7|       0|      14|              1706|\n",
      "|            2|Q1 2021|             3301|    2429|       4|       3|      22|              1946|\n",
      "|            3|Q2 2021|             3185|    2162|      10|       0|      36|              1775|\n",
      "|            4|Q3 2021|             3134|      10|       4|      38|    2153|              1639|\n",
      "|            5|Q4 2021|             3407|      11|       0|      22|    2265|              1808|\n",
      "|            6|Q1 2022|             3345|       9|       0|      42|    2561|              1671|\n",
      "|            7|Q2 2022|             3282|      14|       3|      22|    2418|              1923|\n",
      "|            8|Q3 2022|             3412|      10|       0|      31|    2586|                 1|\n",
      "|            9|Q4 2022|             3617|    1803|       8|       2|     180|              2842|\n",
      "|           10|Q1 2023|             2733|    2119|       5|       3|      27|              1556|\n",
      "|           11|Q2 2023|             2967|    2298|       8|       5|      15|              1594|\n",
      "|           12|Q3 2023|             2187|    1681|       6|       4|      11|              1289|\n",
      "|           13|Q4 2023|             2717|    2145|       8|       9|      31|              1392|\n",
      "|           14|Q1 2024|             2662|    2298|      10|       3|      22|              1179|\n",
      "+-------------+-------+-----------------+--------+--------+--------+--------+------------------+\n",
      "\n"
     ]
    }
   ],
   "source": [
    "# Verificando as principais motivações para os acidentes por quarter\n",
    "motivations_crashes_quarter = df.groupBy('Index_Quarter','Quarter').sum('Total_Crashes', 'SPV', 'DAD', 'PWR', 'FTQ', 'Other_Factors')\\\n",
    "                                .withColumnRenamed('sum(Total_Crashes)', 'Sum_Total_Crashes').sort('Index_Quarter')\n",
    "motivations_crashes_quarter.show()"
   ]
  },
  {
   "cell_type": "markdown",
   "metadata": {},
   "source": [
    "<p> Notamos uma nova anomalia, aparentemente os dados da coluna SPV e FTQ foram invertidos (dado os valores correspondentes em sua média), entre o período de Q3 2021 até Q3 2022 <br>\n",
    "Vamos fazer a inversão desses valores para esses quarters para continuarmos nossa análise </p>"
   ]
  },
  {
   "cell_type": "code",
   "execution_count": 95,
   "metadata": {},
   "outputs": [],
   "source": [
    "# # Parar a SparkSession\n",
    "spark.stop()"
   ]
  }
 ],
 "metadata": {
  "kernelspec": {
   "display_name": "Python 3",
   "language": "python",
   "name": "python3"
  },
  "language_info": {
   "codemirror_mode": {
    "name": "ipython",
    "version": 3
   },
   "file_extension": ".py",
   "mimetype": "text/x-python",
   "name": "python",
   "nbconvert_exporter": "python",
   "pygments_lexer": "ipython3",
   "version": "3.11.3"
  }
 },
 "nbformat": 4,
 "nbformat_minor": 2
}
